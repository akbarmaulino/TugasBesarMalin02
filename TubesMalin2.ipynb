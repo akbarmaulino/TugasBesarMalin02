{
 "cells": [
  {
   "cell_type": "code",
   "execution_count": 85,
   "metadata": {
    "id": "4mGaDvbsKIzA"
   },
   "outputs": [],
   "source": [
    "import pandas as pd\n",
    "from sklearn.preprocessing import LabelEncoder\n",
    "from sklearn.preprocessing import StandardScaler\n",
    "import seaborn as sns\n",
    "import numpy as np\n",
    "import matplotlib.pyplot as plt\n",
    "\n",
    "import warnings \n",
    "warnings.filterwarnings('ignore')"
   ]
  },
  {
   "cell_type": "code",
   "execution_count": 86,
   "metadata": {
    "colab": {
     "base_uri": "https://localhost:8080/"
    },
    "id": "C8A_KC9QI6Sg",
    "outputId": "7743c4d7-72d1-4b23-947d-e097c913900f"
   },
   "outputs": [
    {
     "name": "stderr",
     "output_type": "stream",
     "text": [
      "Downloading...\n",
      "From: https://drive.google.com/uc?id=1WEiWPmtvwXDYDofKzJzg75SH22UCqqOb\n",
      "To: D:\\Tugas Kuliah\\SEMESTER 5\\Pembelajaran Mesin\\Tugas Besar\\kendaraan_train.csv\n",
      "\n",
      "  0%|          | 0.00/15.2M [00:00<?, ?B/s]\n",
      "  3%|3         | 524k/15.2M [00:00<00:05, 2.86MB/s]\n",
      "  7%|6         | 1.05M/15.2M [00:00<00:04, 3.38MB/s]\n",
      " 10%|#         | 1.57M/15.2M [00:00<00:03, 3.59MB/s]\n",
      " 14%|#3        | 2.10M/15.2M [00:00<00:03, 3.86MB/s]\n",
      " 17%|#7        | 2.62M/15.2M [00:00<00:03, 3.89MB/s]\n",
      " 24%|##4       | 3.67M/15.2M [00:00<00:02, 4.26MB/s]\n",
      " 28%|##7       | 4.19M/15.2M [00:01<00:02, 3.99MB/s]\n",
      " 31%|###       | 4.72M/15.2M [00:01<00:02, 3.92MB/s]\n",
      " 34%|###4      | 5.24M/15.2M [00:01<00:02, 3.88MB/s]\n",
      " 38%|###7      | 5.77M/15.2M [00:01<00:02, 3.88MB/s]\n",
      " 41%|####1     | 6.29M/15.2M [00:01<00:02, 3.81MB/s]\n",
      " 45%|####4     | 6.82M/15.2M [00:01<00:02, 3.81MB/s]\n",
      " 48%|####8     | 7.34M/15.2M [00:01<00:02, 3.84MB/s]\n",
      " 52%|#####1    | 7.86M/15.2M [00:02<00:01, 3.86MB/s]\n",
      " 55%|#####5    | 8.39M/15.2M [00:02<00:01, 4.05MB/s]\n",
      " 58%|#####8    | 8.91M/15.2M [00:02<00:01, 4.27MB/s]\n",
      " 62%|######1   | 9.44M/15.2M [00:02<00:01, 4.48MB/s]\n",
      " 65%|######5   | 9.96M/15.2M [00:02<00:01, 4.58MB/s]\n",
      " 72%|#######2  | 11.0M/15.2M [00:02<00:00, 5.04MB/s]\n",
      " 79%|#######9  | 12.1M/15.2M [00:02<00:00, 5.32MB/s]\n",
      " 86%|########6 | 13.1M/15.2M [00:03<00:00, 5.50MB/s]\n",
      " 93%|#########2| 14.2M/15.2M [00:03<00:00, 5.50MB/s]\n",
      "100%|#########9| 15.2M/15.2M [00:03<00:00, 5.76MB/s]\n",
      "100%|##########| 15.2M/15.2M [00:03<00:00, 4.51MB/s]\n",
      "Downloading...\n",
      "From: https://drive.google.com/uc?id=1qKwfBtdGcpflaaS9DFf5p3VHFXGRSIVw\n",
      "To: D:\\Tugas Kuliah\\SEMESTER 5\\Pembelajaran Mesin\\Tugas Besar\\kendaraan_test.csv\n",
      "\n",
      "  0%|          | 0.00/2.31M [00:00<?, ?B/s]\n",
      " 23%|##2       | 524k/2.31M [00:00<00:00, 2.66MB/s]\n",
      " 68%|######8   | 1.57M/2.31M [00:00<00:00, 4.06MB/s]\n",
      " 91%|######### | 2.10M/2.31M [00:00<00:00, 4.20MB/s]\n",
      "100%|##########| 2.31M/2.31M [00:00<00:00, 4.05MB/s]\n"
     ]
    }
   ],
   "source": [
    "! gdown  --id 1WEiWPmtvwXDYDofKzJzg75SH22UCqqOb\n",
    "! gdown  --id 1qKwfBtdGcpflaaS9DFf5p3VHFXGRSIVw "
   ]
  },
  {
   "cell_type": "code",
   "execution_count": 87,
   "metadata": {
    "id": "wyjZnJLCKjIC"
   },
   "outputs": [],
   "source": [
    "DataTrain = pd.read_csv(\"kendaraan_train.csv\")\n",
    "DataTest = pd.read_csv(\"kendaraan_test.csv\")"
   ]
  },
  {
   "cell_type": "code",
   "execution_count": 88,
   "metadata": {
    "colab": {
     "base_uri": "https://localhost:8080/",
     "height": 424
    },
    "id": "4GwFEbKaKtbQ",
    "outputId": "82dce1ee-2401-45dc-d8a5-e90e464a0df7"
   },
   "outputs": [
    {
     "data": {
      "text/html": [
       "<div>\n",
       "<style scoped>\n",
       "    .dataframe tbody tr th:only-of-type {\n",
       "        vertical-align: middle;\n",
       "    }\n",
       "\n",
       "    .dataframe tbody tr th {\n",
       "        vertical-align: top;\n",
       "    }\n",
       "\n",
       "    .dataframe thead th {\n",
       "        text-align: right;\n",
       "    }\n",
       "</style>\n",
       "<table border=\"1\" class=\"dataframe\">\n",
       "  <thead>\n",
       "    <tr style=\"text-align: right;\">\n",
       "      <th></th>\n",
       "      <th>id</th>\n",
       "      <th>Jenis_Kelamin</th>\n",
       "      <th>Umur</th>\n",
       "      <th>SIM</th>\n",
       "      <th>Kode_Daerah</th>\n",
       "      <th>Sudah_Asuransi</th>\n",
       "      <th>Umur_Kendaraan</th>\n",
       "      <th>Kendaraan_Rusak</th>\n",
       "      <th>Premi</th>\n",
       "      <th>Kanal_Penjualan</th>\n",
       "      <th>Lama_Berlangganan</th>\n",
       "      <th>Tertarik</th>\n",
       "    </tr>\n",
       "  </thead>\n",
       "  <tbody>\n",
       "    <tr>\n",
       "      <th>0</th>\n",
       "      <td>1</td>\n",
       "      <td>Wanita</td>\n",
       "      <td>30.0</td>\n",
       "      <td>1.0</td>\n",
       "      <td>33.0</td>\n",
       "      <td>1.0</td>\n",
       "      <td>&lt; 1 Tahun</td>\n",
       "      <td>Tidak</td>\n",
       "      <td>28029.0</td>\n",
       "      <td>152.0</td>\n",
       "      <td>97.0</td>\n",
       "      <td>0</td>\n",
       "    </tr>\n",
       "    <tr>\n",
       "      <th>1</th>\n",
       "      <td>2</td>\n",
       "      <td>Pria</td>\n",
       "      <td>48.0</td>\n",
       "      <td>1.0</td>\n",
       "      <td>39.0</td>\n",
       "      <td>0.0</td>\n",
       "      <td>&gt; 2 Tahun</td>\n",
       "      <td>Pernah</td>\n",
       "      <td>25800.0</td>\n",
       "      <td>29.0</td>\n",
       "      <td>158.0</td>\n",
       "      <td>0</td>\n",
       "    </tr>\n",
       "    <tr>\n",
       "      <th>2</th>\n",
       "      <td>3</td>\n",
       "      <td>NaN</td>\n",
       "      <td>21.0</td>\n",
       "      <td>1.0</td>\n",
       "      <td>46.0</td>\n",
       "      <td>1.0</td>\n",
       "      <td>&lt; 1 Tahun</td>\n",
       "      <td>Tidak</td>\n",
       "      <td>32733.0</td>\n",
       "      <td>160.0</td>\n",
       "      <td>119.0</td>\n",
       "      <td>0</td>\n",
       "    </tr>\n",
       "    <tr>\n",
       "      <th>3</th>\n",
       "      <td>4</td>\n",
       "      <td>Wanita</td>\n",
       "      <td>58.0</td>\n",
       "      <td>1.0</td>\n",
       "      <td>48.0</td>\n",
       "      <td>0.0</td>\n",
       "      <td>1-2 Tahun</td>\n",
       "      <td>Tidak</td>\n",
       "      <td>2630.0</td>\n",
       "      <td>124.0</td>\n",
       "      <td>63.0</td>\n",
       "      <td>0</td>\n",
       "    </tr>\n",
       "    <tr>\n",
       "      <th>4</th>\n",
       "      <td>5</td>\n",
       "      <td>Pria</td>\n",
       "      <td>50.0</td>\n",
       "      <td>1.0</td>\n",
       "      <td>35.0</td>\n",
       "      <td>0.0</td>\n",
       "      <td>&gt; 2 Tahun</td>\n",
       "      <td>NaN</td>\n",
       "      <td>34857.0</td>\n",
       "      <td>88.0</td>\n",
       "      <td>194.0</td>\n",
       "      <td>0</td>\n",
       "    </tr>\n",
       "    <tr>\n",
       "      <th>...</th>\n",
       "      <td>...</td>\n",
       "      <td>...</td>\n",
       "      <td>...</td>\n",
       "      <td>...</td>\n",
       "      <td>...</td>\n",
       "      <td>...</td>\n",
       "      <td>...</td>\n",
       "      <td>...</td>\n",
       "      <td>...</td>\n",
       "      <td>...</td>\n",
       "      <td>...</td>\n",
       "      <td>...</td>\n",
       "    </tr>\n",
       "    <tr>\n",
       "      <th>285826</th>\n",
       "      <td>285827</td>\n",
       "      <td>Wanita</td>\n",
       "      <td>23.0</td>\n",
       "      <td>1.0</td>\n",
       "      <td>4.0</td>\n",
       "      <td>1.0</td>\n",
       "      <td>&lt; 1 Tahun</td>\n",
       "      <td>Tidak</td>\n",
       "      <td>25988.0</td>\n",
       "      <td>152.0</td>\n",
       "      <td>217.0</td>\n",
       "      <td>0</td>\n",
       "    </tr>\n",
       "    <tr>\n",
       "      <th>285827</th>\n",
       "      <td>285828</td>\n",
       "      <td>Wanita</td>\n",
       "      <td>21.0</td>\n",
       "      <td>1.0</td>\n",
       "      <td>46.0</td>\n",
       "      <td>1.0</td>\n",
       "      <td>&lt; 1 Tahun</td>\n",
       "      <td>Tidak</td>\n",
       "      <td>44686.0</td>\n",
       "      <td>152.0</td>\n",
       "      <td>50.0</td>\n",
       "      <td>0</td>\n",
       "    </tr>\n",
       "    <tr>\n",
       "      <th>285828</th>\n",
       "      <td>285829</td>\n",
       "      <td>Wanita</td>\n",
       "      <td>23.0</td>\n",
       "      <td>1.0</td>\n",
       "      <td>50.0</td>\n",
       "      <td>1.0</td>\n",
       "      <td>&lt; 1 Tahun</td>\n",
       "      <td>Tidak</td>\n",
       "      <td>49751.0</td>\n",
       "      <td>152.0</td>\n",
       "      <td>226.0</td>\n",
       "      <td>0</td>\n",
       "    </tr>\n",
       "    <tr>\n",
       "      <th>285829</th>\n",
       "      <td>285830</td>\n",
       "      <td>Pria</td>\n",
       "      <td>68.0</td>\n",
       "      <td>1.0</td>\n",
       "      <td>7.0</td>\n",
       "      <td>1.0</td>\n",
       "      <td>1-2 Tahun</td>\n",
       "      <td>Tidak</td>\n",
       "      <td>30503.0</td>\n",
       "      <td>124.0</td>\n",
       "      <td>270.0</td>\n",
       "      <td>0</td>\n",
       "    </tr>\n",
       "    <tr>\n",
       "      <th>285830</th>\n",
       "      <td>285831</td>\n",
       "      <td>Pria</td>\n",
       "      <td>45.0</td>\n",
       "      <td>1.0</td>\n",
       "      <td>28.0</td>\n",
       "      <td>0.0</td>\n",
       "      <td>1-2 Tahun</td>\n",
       "      <td>Pernah</td>\n",
       "      <td>36480.0</td>\n",
       "      <td>26.0</td>\n",
       "      <td>44.0</td>\n",
       "      <td>0</td>\n",
       "    </tr>\n",
       "  </tbody>\n",
       "</table>\n",
       "<p>285831 rows × 12 columns</p>\n",
       "</div>"
      ],
      "text/plain": [
       "            id Jenis_Kelamin  Umur  SIM  Kode_Daerah  Sudah_Asuransi  \\\n",
       "0            1        Wanita  30.0  1.0         33.0             1.0   \n",
       "1            2          Pria  48.0  1.0         39.0             0.0   \n",
       "2            3           NaN  21.0  1.0         46.0             1.0   \n",
       "3            4        Wanita  58.0  1.0         48.0             0.0   \n",
       "4            5          Pria  50.0  1.0         35.0             0.0   \n",
       "...        ...           ...   ...  ...          ...             ...   \n",
       "285826  285827        Wanita  23.0  1.0          4.0             1.0   \n",
       "285827  285828        Wanita  21.0  1.0         46.0             1.0   \n",
       "285828  285829        Wanita  23.0  1.0         50.0             1.0   \n",
       "285829  285830          Pria  68.0  1.0          7.0             1.0   \n",
       "285830  285831          Pria  45.0  1.0         28.0             0.0   \n",
       "\n",
       "       Umur_Kendaraan Kendaraan_Rusak    Premi  Kanal_Penjualan  \\\n",
       "0           < 1 Tahun           Tidak  28029.0            152.0   \n",
       "1           > 2 Tahun          Pernah  25800.0             29.0   \n",
       "2           < 1 Tahun           Tidak  32733.0            160.0   \n",
       "3           1-2 Tahun           Tidak   2630.0            124.0   \n",
       "4           > 2 Tahun             NaN  34857.0             88.0   \n",
       "...               ...             ...      ...              ...   \n",
       "285826      < 1 Tahun           Tidak  25988.0            152.0   \n",
       "285827      < 1 Tahun           Tidak  44686.0            152.0   \n",
       "285828      < 1 Tahun           Tidak  49751.0            152.0   \n",
       "285829      1-2 Tahun           Tidak  30503.0            124.0   \n",
       "285830      1-2 Tahun          Pernah  36480.0             26.0   \n",
       "\n",
       "        Lama_Berlangganan  Tertarik  \n",
       "0                    97.0         0  \n",
       "1                   158.0         0  \n",
       "2                   119.0         0  \n",
       "3                    63.0         0  \n",
       "4                   194.0         0  \n",
       "...                   ...       ...  \n",
       "285826              217.0         0  \n",
       "285827               50.0         0  \n",
       "285828              226.0         0  \n",
       "285829              270.0         0  \n",
       "285830               44.0         0  \n",
       "\n",
       "[285831 rows x 12 columns]"
      ]
     },
     "execution_count": 88,
     "metadata": {},
     "output_type": "execute_result"
    }
   ],
   "source": [
    "DataTrain"
   ]
  },
  {
   "cell_type": "code",
   "execution_count": 89,
   "metadata": {
    "colab": {
     "base_uri": "https://localhost:8080/",
     "height": 424
    },
    "id": "OdmaU2gjKyuA",
    "outputId": "5e4d654e-223e-4f87-dd91-93d9ae58b4f5"
   },
   "outputs": [
    {
     "data": {
      "text/html": [
       "<div>\n",
       "<style scoped>\n",
       "    .dataframe tbody tr th:only-of-type {\n",
       "        vertical-align: middle;\n",
       "    }\n",
       "\n",
       "    .dataframe tbody tr th {\n",
       "        vertical-align: top;\n",
       "    }\n",
       "\n",
       "    .dataframe thead th {\n",
       "        text-align: right;\n",
       "    }\n",
       "</style>\n",
       "<table border=\"1\" class=\"dataframe\">\n",
       "  <thead>\n",
       "    <tr style=\"text-align: right;\">\n",
       "      <th></th>\n",
       "      <th>Jenis_Kelamin</th>\n",
       "      <th>Umur</th>\n",
       "      <th>SIM</th>\n",
       "      <th>Kode_Daerah</th>\n",
       "      <th>Sudah_Asuransi</th>\n",
       "      <th>Umur_Kendaraan</th>\n",
       "      <th>Kendaraan_Rusak</th>\n",
       "      <th>Premi</th>\n",
       "      <th>Kanal_Penjualan</th>\n",
       "      <th>Lama_Berlangganan</th>\n",
       "      <th>Tertarik</th>\n",
       "    </tr>\n",
       "  </thead>\n",
       "  <tbody>\n",
       "    <tr>\n",
       "      <th>0</th>\n",
       "      <td>Wanita</td>\n",
       "      <td>49</td>\n",
       "      <td>1</td>\n",
       "      <td>8</td>\n",
       "      <td>0</td>\n",
       "      <td>1-2 Tahun</td>\n",
       "      <td>Pernah</td>\n",
       "      <td>46963</td>\n",
       "      <td>26</td>\n",
       "      <td>145</td>\n",
       "      <td>0</td>\n",
       "    </tr>\n",
       "    <tr>\n",
       "      <th>1</th>\n",
       "      <td>Pria</td>\n",
       "      <td>22</td>\n",
       "      <td>1</td>\n",
       "      <td>47</td>\n",
       "      <td>1</td>\n",
       "      <td>&lt; 1 Tahun</td>\n",
       "      <td>Tidak</td>\n",
       "      <td>39624</td>\n",
       "      <td>152</td>\n",
       "      <td>241</td>\n",
       "      <td>0</td>\n",
       "    </tr>\n",
       "    <tr>\n",
       "      <th>2</th>\n",
       "      <td>Pria</td>\n",
       "      <td>24</td>\n",
       "      <td>1</td>\n",
       "      <td>28</td>\n",
       "      <td>1</td>\n",
       "      <td>&lt; 1 Tahun</td>\n",
       "      <td>Tidak</td>\n",
       "      <td>110479</td>\n",
       "      <td>152</td>\n",
       "      <td>62</td>\n",
       "      <td>0</td>\n",
       "    </tr>\n",
       "    <tr>\n",
       "      <th>3</th>\n",
       "      <td>Pria</td>\n",
       "      <td>46</td>\n",
       "      <td>1</td>\n",
       "      <td>8</td>\n",
       "      <td>1</td>\n",
       "      <td>1-2 Tahun</td>\n",
       "      <td>Tidak</td>\n",
       "      <td>36266</td>\n",
       "      <td>124</td>\n",
       "      <td>34</td>\n",
       "      <td>0</td>\n",
       "    </tr>\n",
       "    <tr>\n",
       "      <th>4</th>\n",
       "      <td>Pria</td>\n",
       "      <td>35</td>\n",
       "      <td>1</td>\n",
       "      <td>23</td>\n",
       "      <td>0</td>\n",
       "      <td>1-2 Tahun</td>\n",
       "      <td>Pernah</td>\n",
       "      <td>26963</td>\n",
       "      <td>152</td>\n",
       "      <td>229</td>\n",
       "      <td>0</td>\n",
       "    </tr>\n",
       "    <tr>\n",
       "      <th>...</th>\n",
       "      <td>...</td>\n",
       "      <td>...</td>\n",
       "      <td>...</td>\n",
       "      <td>...</td>\n",
       "      <td>...</td>\n",
       "      <td>...</td>\n",
       "      <td>...</td>\n",
       "      <td>...</td>\n",
       "      <td>...</td>\n",
       "      <td>...</td>\n",
       "      <td>...</td>\n",
       "    </tr>\n",
       "    <tr>\n",
       "      <th>47634</th>\n",
       "      <td>Pria</td>\n",
       "      <td>61</td>\n",
       "      <td>1</td>\n",
       "      <td>46</td>\n",
       "      <td>0</td>\n",
       "      <td>&gt; 2 Tahun</td>\n",
       "      <td>Pernah</td>\n",
       "      <td>31039</td>\n",
       "      <td>124</td>\n",
       "      <td>67</td>\n",
       "      <td>0</td>\n",
       "    </tr>\n",
       "    <tr>\n",
       "      <th>47635</th>\n",
       "      <td>Pria</td>\n",
       "      <td>41</td>\n",
       "      <td>1</td>\n",
       "      <td>15</td>\n",
       "      <td>0</td>\n",
       "      <td>1-2 Tahun</td>\n",
       "      <td>Pernah</td>\n",
       "      <td>2630</td>\n",
       "      <td>157</td>\n",
       "      <td>232</td>\n",
       "      <td>0</td>\n",
       "    </tr>\n",
       "    <tr>\n",
       "      <th>47636</th>\n",
       "      <td>Pria</td>\n",
       "      <td>24</td>\n",
       "      <td>1</td>\n",
       "      <td>29</td>\n",
       "      <td>1</td>\n",
       "      <td>&lt; 1 Tahun</td>\n",
       "      <td>Tidak</td>\n",
       "      <td>33101</td>\n",
       "      <td>152</td>\n",
       "      <td>211</td>\n",
       "      <td>0</td>\n",
       "    </tr>\n",
       "    <tr>\n",
       "      <th>47637</th>\n",
       "      <td>Pria</td>\n",
       "      <td>59</td>\n",
       "      <td>1</td>\n",
       "      <td>30</td>\n",
       "      <td>0</td>\n",
       "      <td>1-2 Tahun</td>\n",
       "      <td>Pernah</td>\n",
       "      <td>37788</td>\n",
       "      <td>26</td>\n",
       "      <td>239</td>\n",
       "      <td>1</td>\n",
       "    </tr>\n",
       "    <tr>\n",
       "      <th>47638</th>\n",
       "      <td>Pria</td>\n",
       "      <td>52</td>\n",
       "      <td>1</td>\n",
       "      <td>31</td>\n",
       "      <td>0</td>\n",
       "      <td>1-2 Tahun</td>\n",
       "      <td>Tidak</td>\n",
       "      <td>2630</td>\n",
       "      <td>124</td>\n",
       "      <td>170</td>\n",
       "      <td>0</td>\n",
       "    </tr>\n",
       "  </tbody>\n",
       "</table>\n",
       "<p>47639 rows × 11 columns</p>\n",
       "</div>"
      ],
      "text/plain": [
       "      Jenis_Kelamin  Umur  SIM  Kode_Daerah  Sudah_Asuransi Umur_Kendaraan  \\\n",
       "0            Wanita    49    1            8               0      1-2 Tahun   \n",
       "1              Pria    22    1           47               1      < 1 Tahun   \n",
       "2              Pria    24    1           28               1      < 1 Tahun   \n",
       "3              Pria    46    1            8               1      1-2 Tahun   \n",
       "4              Pria    35    1           23               0      1-2 Tahun   \n",
       "...             ...   ...  ...          ...             ...            ...   \n",
       "47634          Pria    61    1           46               0      > 2 Tahun   \n",
       "47635          Pria    41    1           15               0      1-2 Tahun   \n",
       "47636          Pria    24    1           29               1      < 1 Tahun   \n",
       "47637          Pria    59    1           30               0      1-2 Tahun   \n",
       "47638          Pria    52    1           31               0      1-2 Tahun   \n",
       "\n",
       "      Kendaraan_Rusak   Premi  Kanal_Penjualan  Lama_Berlangganan  Tertarik  \n",
       "0              Pernah   46963               26                145         0  \n",
       "1               Tidak   39624              152                241         0  \n",
       "2               Tidak  110479              152                 62         0  \n",
       "3               Tidak   36266              124                 34         0  \n",
       "4              Pernah   26963              152                229         0  \n",
       "...               ...     ...              ...                ...       ...  \n",
       "47634          Pernah   31039              124                 67         0  \n",
       "47635          Pernah    2630              157                232         0  \n",
       "47636           Tidak   33101              152                211         0  \n",
       "47637          Pernah   37788               26                239         1  \n",
       "47638           Tidak    2630              124                170         0  \n",
       "\n",
       "[47639 rows x 11 columns]"
      ]
     },
     "execution_count": 89,
     "metadata": {},
     "output_type": "execute_result"
    }
   ],
   "source": [
    "DataTest"
   ]
  },
  {
   "cell_type": "code",
   "execution_count": 90,
   "metadata": {},
   "outputs": [
    {
     "data": {
      "text/html": [
       "<div>\n",
       "<style scoped>\n",
       "    .dataframe tbody tr th:only-of-type {\n",
       "        vertical-align: middle;\n",
       "    }\n",
       "\n",
       "    .dataframe tbody tr th {\n",
       "        vertical-align: top;\n",
       "    }\n",
       "\n",
       "    .dataframe thead th {\n",
       "        text-align: right;\n",
       "    }\n",
       "</style>\n",
       "<table border=\"1\" class=\"dataframe\">\n",
       "  <thead>\n",
       "    <tr style=\"text-align: right;\">\n",
       "      <th></th>\n",
       "      <th>Jenis_Kelamin</th>\n",
       "      <th>Umur</th>\n",
       "      <th>SIM</th>\n",
       "      <th>Kode_Daerah</th>\n",
       "      <th>Sudah_Asuransi</th>\n",
       "      <th>Umur_Kendaraan</th>\n",
       "      <th>Kendaraan_Rusak</th>\n",
       "      <th>Premi</th>\n",
       "      <th>Kanal_Penjualan</th>\n",
       "      <th>Lama_Berlangganan</th>\n",
       "      <th>Tertarik</th>\n",
       "    </tr>\n",
       "  </thead>\n",
       "  <tbody>\n",
       "    <tr>\n",
       "      <th>0</th>\n",
       "      <td>Wanita</td>\n",
       "      <td>49</td>\n",
       "      <td>1</td>\n",
       "      <td>8</td>\n",
       "      <td>0</td>\n",
       "      <td>1-2 Tahun</td>\n",
       "      <td>Pernah</td>\n",
       "      <td>46963</td>\n",
       "      <td>26</td>\n",
       "      <td>145</td>\n",
       "      <td>0</td>\n",
       "    </tr>\n",
       "    <tr>\n",
       "      <th>1</th>\n",
       "      <td>Pria</td>\n",
       "      <td>22</td>\n",
       "      <td>1</td>\n",
       "      <td>47</td>\n",
       "      <td>1</td>\n",
       "      <td>&lt; 1 Tahun</td>\n",
       "      <td>Tidak</td>\n",
       "      <td>39624</td>\n",
       "      <td>152</td>\n",
       "      <td>241</td>\n",
       "      <td>0</td>\n",
       "    </tr>\n",
       "    <tr>\n",
       "      <th>2</th>\n",
       "      <td>Pria</td>\n",
       "      <td>24</td>\n",
       "      <td>1</td>\n",
       "      <td>28</td>\n",
       "      <td>1</td>\n",
       "      <td>&lt; 1 Tahun</td>\n",
       "      <td>Tidak</td>\n",
       "      <td>110479</td>\n",
       "      <td>152</td>\n",
       "      <td>62</td>\n",
       "      <td>0</td>\n",
       "    </tr>\n",
       "    <tr>\n",
       "      <th>3</th>\n",
       "      <td>Pria</td>\n",
       "      <td>46</td>\n",
       "      <td>1</td>\n",
       "      <td>8</td>\n",
       "      <td>1</td>\n",
       "      <td>1-2 Tahun</td>\n",
       "      <td>Tidak</td>\n",
       "      <td>36266</td>\n",
       "      <td>124</td>\n",
       "      <td>34</td>\n",
       "      <td>0</td>\n",
       "    </tr>\n",
       "    <tr>\n",
       "      <th>4</th>\n",
       "      <td>Pria</td>\n",
       "      <td>35</td>\n",
       "      <td>1</td>\n",
       "      <td>23</td>\n",
       "      <td>0</td>\n",
       "      <td>1-2 Tahun</td>\n",
       "      <td>Pernah</td>\n",
       "      <td>26963</td>\n",
       "      <td>152</td>\n",
       "      <td>229</td>\n",
       "      <td>0</td>\n",
       "    </tr>\n",
       "    <tr>\n",
       "      <th>...</th>\n",
       "      <td>...</td>\n",
       "      <td>...</td>\n",
       "      <td>...</td>\n",
       "      <td>...</td>\n",
       "      <td>...</td>\n",
       "      <td>...</td>\n",
       "      <td>...</td>\n",
       "      <td>...</td>\n",
       "      <td>...</td>\n",
       "      <td>...</td>\n",
       "      <td>...</td>\n",
       "    </tr>\n",
       "    <tr>\n",
       "      <th>47634</th>\n",
       "      <td>Pria</td>\n",
       "      <td>61</td>\n",
       "      <td>1</td>\n",
       "      <td>46</td>\n",
       "      <td>0</td>\n",
       "      <td>&gt; 2 Tahun</td>\n",
       "      <td>Pernah</td>\n",
       "      <td>31039</td>\n",
       "      <td>124</td>\n",
       "      <td>67</td>\n",
       "      <td>0</td>\n",
       "    </tr>\n",
       "    <tr>\n",
       "      <th>47635</th>\n",
       "      <td>Pria</td>\n",
       "      <td>41</td>\n",
       "      <td>1</td>\n",
       "      <td>15</td>\n",
       "      <td>0</td>\n",
       "      <td>1-2 Tahun</td>\n",
       "      <td>Pernah</td>\n",
       "      <td>2630</td>\n",
       "      <td>157</td>\n",
       "      <td>232</td>\n",
       "      <td>0</td>\n",
       "    </tr>\n",
       "    <tr>\n",
       "      <th>47636</th>\n",
       "      <td>Pria</td>\n",
       "      <td>24</td>\n",
       "      <td>1</td>\n",
       "      <td>29</td>\n",
       "      <td>1</td>\n",
       "      <td>&lt; 1 Tahun</td>\n",
       "      <td>Tidak</td>\n",
       "      <td>33101</td>\n",
       "      <td>152</td>\n",
       "      <td>211</td>\n",
       "      <td>0</td>\n",
       "    </tr>\n",
       "    <tr>\n",
       "      <th>47637</th>\n",
       "      <td>Pria</td>\n",
       "      <td>59</td>\n",
       "      <td>1</td>\n",
       "      <td>30</td>\n",
       "      <td>0</td>\n",
       "      <td>1-2 Tahun</td>\n",
       "      <td>Pernah</td>\n",
       "      <td>37788</td>\n",
       "      <td>26</td>\n",
       "      <td>239</td>\n",
       "      <td>1</td>\n",
       "    </tr>\n",
       "    <tr>\n",
       "      <th>47638</th>\n",
       "      <td>Pria</td>\n",
       "      <td>52</td>\n",
       "      <td>1</td>\n",
       "      <td>31</td>\n",
       "      <td>0</td>\n",
       "      <td>1-2 Tahun</td>\n",
       "      <td>Tidak</td>\n",
       "      <td>2630</td>\n",
       "      <td>124</td>\n",
       "      <td>170</td>\n",
       "      <td>0</td>\n",
       "    </tr>\n",
       "  </tbody>\n",
       "</table>\n",
       "<p>47639 rows × 11 columns</p>\n",
       "</div>"
      ],
      "text/plain": [
       "      Jenis_Kelamin  Umur  SIM  Kode_Daerah  Sudah_Asuransi Umur_Kendaraan  \\\n",
       "0            Wanita    49    1            8               0      1-2 Tahun   \n",
       "1              Pria    22    1           47               1      < 1 Tahun   \n",
       "2              Pria    24    1           28               1      < 1 Tahun   \n",
       "3              Pria    46    1            8               1      1-2 Tahun   \n",
       "4              Pria    35    1           23               0      1-2 Tahun   \n",
       "...             ...   ...  ...          ...             ...            ...   \n",
       "47634          Pria    61    1           46               0      > 2 Tahun   \n",
       "47635          Pria    41    1           15               0      1-2 Tahun   \n",
       "47636          Pria    24    1           29               1      < 1 Tahun   \n",
       "47637          Pria    59    1           30               0      1-2 Tahun   \n",
       "47638          Pria    52    1           31               0      1-2 Tahun   \n",
       "\n",
       "      Kendaraan_Rusak   Premi  Kanal_Penjualan  Lama_Berlangganan  Tertarik  \n",
       "0              Pernah   46963               26                145         0  \n",
       "1               Tidak   39624              152                241         0  \n",
       "2               Tidak  110479              152                 62         0  \n",
       "3               Tidak   36266              124                 34         0  \n",
       "4              Pernah   26963              152                229         0  \n",
       "...               ...     ...              ...                ...       ...  \n",
       "47634          Pernah   31039              124                 67         0  \n",
       "47635          Pernah    2630              157                232         0  \n",
       "47636           Tidak   33101              152                211         0  \n",
       "47637          Pernah   37788               26                239         1  \n",
       "47638           Tidak    2630              124                170         0  \n",
       "\n",
       "[47639 rows x 11 columns]"
      ]
     },
     "execution_count": 90,
     "metadata": {},
     "output_type": "execute_result"
    }
   ],
   "source": [
    "DataTest"
   ]
  },
  {
   "cell_type": "code",
   "execution_count": 91,
   "metadata": {
    "colab": {
     "base_uri": "https://localhost:8080/"
    },
    "id": "_OGcFz3HK0Ro",
    "outputId": "30bb7bf8-429d-4ee5-c89d-50b617ec230a"
   },
   "outputs": [
    {
     "name": "stdout",
     "output_type": "stream",
     "text": [
      "Banyak baris dan kolom untuk Data Train adalah :  (285831, 12)\n",
      "Banyak baris dan kolom untuk Data Test adalah :  (47639, 11)\n"
     ]
    }
   ],
   "source": [
    "print(\"Banyak baris dan kolom untuk Data Train adalah : \", DataTrain.shape)\n",
    "print(\"Banyak baris dan kolom untuk Data Test adalah : \", DataTest.shape)"
   ]
  },
  {
   "cell_type": "code",
   "execution_count": 92,
   "metadata": {
    "colab": {
     "base_uri": "https://localhost:8080/",
     "height": 300
    },
    "id": "AF7PTaCvMGPx",
    "outputId": "275ad801-6b24-45d5-c441-469acd6eed8e"
   },
   "outputs": [
    {
     "data": {
      "text/html": [
       "<div>\n",
       "<style scoped>\n",
       "    .dataframe tbody tr th:only-of-type {\n",
       "        vertical-align: middle;\n",
       "    }\n",
       "\n",
       "    .dataframe tbody tr th {\n",
       "        vertical-align: top;\n",
       "    }\n",
       "\n",
       "    .dataframe thead th {\n",
       "        text-align: right;\n",
       "    }\n",
       "</style>\n",
       "<table border=\"1\" class=\"dataframe\">\n",
       "  <thead>\n",
       "    <tr style=\"text-align: right;\">\n",
       "      <th></th>\n",
       "      <th>id</th>\n",
       "      <th>Umur</th>\n",
       "      <th>SIM</th>\n",
       "      <th>Kode_Daerah</th>\n",
       "      <th>Sudah_Asuransi</th>\n",
       "      <th>Premi</th>\n",
       "      <th>Kanal_Penjualan</th>\n",
       "      <th>Lama_Berlangganan</th>\n",
       "      <th>Tertarik</th>\n",
       "    </tr>\n",
       "  </thead>\n",
       "  <tbody>\n",
       "    <tr>\n",
       "      <th>count</th>\n",
       "      <td>285831.000000</td>\n",
       "      <td>271617.000000</td>\n",
       "      <td>271427.000000</td>\n",
       "      <td>271525.000000</td>\n",
       "      <td>271602.000000</td>\n",
       "      <td>271262.000000</td>\n",
       "      <td>271532.000000</td>\n",
       "      <td>271839.000000</td>\n",
       "      <td>285831.000000</td>\n",
       "    </tr>\n",
       "    <tr>\n",
       "      <th>mean</th>\n",
       "      <td>142916.000000</td>\n",
       "      <td>38.844336</td>\n",
       "      <td>0.997848</td>\n",
       "      <td>26.405410</td>\n",
       "      <td>0.458778</td>\n",
       "      <td>30536.683472</td>\n",
       "      <td>112.021567</td>\n",
       "      <td>154.286302</td>\n",
       "      <td>0.122471</td>\n",
       "    </tr>\n",
       "    <tr>\n",
       "      <th>std</th>\n",
       "      <td>82512.446734</td>\n",
       "      <td>15.522487</td>\n",
       "      <td>0.046335</td>\n",
       "      <td>13.252714</td>\n",
       "      <td>0.498299</td>\n",
       "      <td>17155.000770</td>\n",
       "      <td>54.202457</td>\n",
       "      <td>83.694910</td>\n",
       "      <td>0.327830</td>\n",
       "    </tr>\n",
       "    <tr>\n",
       "      <th>min</th>\n",
       "      <td>1.000000</td>\n",
       "      <td>20.000000</td>\n",
       "      <td>0.000000</td>\n",
       "      <td>0.000000</td>\n",
       "      <td>0.000000</td>\n",
       "      <td>2630.000000</td>\n",
       "      <td>1.000000</td>\n",
       "      <td>10.000000</td>\n",
       "      <td>0.000000</td>\n",
       "    </tr>\n",
       "    <tr>\n",
       "      <th>25%</th>\n",
       "      <td>71458.500000</td>\n",
       "      <td>25.000000</td>\n",
       "      <td>1.000000</td>\n",
       "      <td>15.000000</td>\n",
       "      <td>0.000000</td>\n",
       "      <td>24398.000000</td>\n",
       "      <td>29.000000</td>\n",
       "      <td>82.000000</td>\n",
       "      <td>0.000000</td>\n",
       "    </tr>\n",
       "    <tr>\n",
       "      <th>50%</th>\n",
       "      <td>142916.000000</td>\n",
       "      <td>36.000000</td>\n",
       "      <td>1.000000</td>\n",
       "      <td>28.000000</td>\n",
       "      <td>0.000000</td>\n",
       "      <td>31646.000000</td>\n",
       "      <td>132.000000</td>\n",
       "      <td>154.000000</td>\n",
       "      <td>0.000000</td>\n",
       "    </tr>\n",
       "    <tr>\n",
       "      <th>75%</th>\n",
       "      <td>214373.500000</td>\n",
       "      <td>49.000000</td>\n",
       "      <td>1.000000</td>\n",
       "      <td>35.000000</td>\n",
       "      <td>1.000000</td>\n",
       "      <td>39377.750000</td>\n",
       "      <td>152.000000</td>\n",
       "      <td>227.000000</td>\n",
       "      <td>0.000000</td>\n",
       "    </tr>\n",
       "    <tr>\n",
       "      <th>max</th>\n",
       "      <td>285831.000000</td>\n",
       "      <td>85.000000</td>\n",
       "      <td>1.000000</td>\n",
       "      <td>52.000000</td>\n",
       "      <td>1.000000</td>\n",
       "      <td>540165.000000</td>\n",
       "      <td>163.000000</td>\n",
       "      <td>299.000000</td>\n",
       "      <td>1.000000</td>\n",
       "    </tr>\n",
       "  </tbody>\n",
       "</table>\n",
       "</div>"
      ],
      "text/plain": [
       "                  id           Umur            SIM    Kode_Daerah  \\\n",
       "count  285831.000000  271617.000000  271427.000000  271525.000000   \n",
       "mean   142916.000000      38.844336       0.997848      26.405410   \n",
       "std     82512.446734      15.522487       0.046335      13.252714   \n",
       "min         1.000000      20.000000       0.000000       0.000000   \n",
       "25%     71458.500000      25.000000       1.000000      15.000000   \n",
       "50%    142916.000000      36.000000       1.000000      28.000000   \n",
       "75%    214373.500000      49.000000       1.000000      35.000000   \n",
       "max    285831.000000      85.000000       1.000000      52.000000   \n",
       "\n",
       "       Sudah_Asuransi          Premi  Kanal_Penjualan  Lama_Berlangganan  \\\n",
       "count   271602.000000  271262.000000    271532.000000      271839.000000   \n",
       "mean         0.458778   30536.683472       112.021567         154.286302   \n",
       "std          0.498299   17155.000770        54.202457          83.694910   \n",
       "min          0.000000    2630.000000         1.000000          10.000000   \n",
       "25%          0.000000   24398.000000        29.000000          82.000000   \n",
       "50%          0.000000   31646.000000       132.000000         154.000000   \n",
       "75%          1.000000   39377.750000       152.000000         227.000000   \n",
       "max          1.000000  540165.000000       163.000000         299.000000   \n",
       "\n",
       "            Tertarik  \n",
       "count  285831.000000  \n",
       "mean        0.122471  \n",
       "std         0.327830  \n",
       "min         0.000000  \n",
       "25%         0.000000  \n",
       "50%         0.000000  \n",
       "75%         0.000000  \n",
       "max         1.000000  "
      ]
     },
     "execution_count": 92,
     "metadata": {},
     "output_type": "execute_result"
    }
   ],
   "source": [
    "DataTrain.describe()"
   ]
  },
  {
   "cell_type": "code",
   "execution_count": 93,
   "metadata": {
    "colab": {
     "base_uri": "https://localhost:8080/",
     "height": 300
    },
    "id": "NU9_R71JMI5w",
    "outputId": "0db9dacf-1f40-4a35-ce5a-7cfcf187800b"
   },
   "outputs": [
    {
     "data": {
      "text/html": [
       "<div>\n",
       "<style scoped>\n",
       "    .dataframe tbody tr th:only-of-type {\n",
       "        vertical-align: middle;\n",
       "    }\n",
       "\n",
       "    .dataframe tbody tr th {\n",
       "        vertical-align: top;\n",
       "    }\n",
       "\n",
       "    .dataframe thead th {\n",
       "        text-align: right;\n",
       "    }\n",
       "</style>\n",
       "<table border=\"1\" class=\"dataframe\">\n",
       "  <thead>\n",
       "    <tr style=\"text-align: right;\">\n",
       "      <th></th>\n",
       "      <th>Umur</th>\n",
       "      <th>SIM</th>\n",
       "      <th>Kode_Daerah</th>\n",
       "      <th>Sudah_Asuransi</th>\n",
       "      <th>Premi</th>\n",
       "      <th>Kanal_Penjualan</th>\n",
       "      <th>Lama_Berlangganan</th>\n",
       "      <th>Tertarik</th>\n",
       "    </tr>\n",
       "  </thead>\n",
       "  <tbody>\n",
       "    <tr>\n",
       "      <th>count</th>\n",
       "      <td>47639.000000</td>\n",
       "      <td>47639.000000</td>\n",
       "      <td>47639.000000</td>\n",
       "      <td>47639.000000</td>\n",
       "      <td>47639.000000</td>\n",
       "      <td>47639.000000</td>\n",
       "      <td>47639.000000</td>\n",
       "      <td>47639.000000</td>\n",
       "    </tr>\n",
       "    <tr>\n",
       "      <th>mean</th>\n",
       "      <td>38.815466</td>\n",
       "      <td>0.997922</td>\n",
       "      <td>26.331514</td>\n",
       "      <td>0.457608</td>\n",
       "      <td>30626.481202</td>\n",
       "      <td>112.180566</td>\n",
       "      <td>154.447574</td>\n",
       "      <td>0.123029</td>\n",
       "    </tr>\n",
       "    <tr>\n",
       "      <th>std</th>\n",
       "      <td>15.548817</td>\n",
       "      <td>0.045540</td>\n",
       "      <td>13.213353</td>\n",
       "      <td>0.498205</td>\n",
       "      <td>17404.792248</td>\n",
       "      <td>54.162703</td>\n",
       "      <td>83.642137</td>\n",
       "      <td>0.328474</td>\n",
       "    </tr>\n",
       "    <tr>\n",
       "      <th>min</th>\n",
       "      <td>20.000000</td>\n",
       "      <td>0.000000</td>\n",
       "      <td>0.000000</td>\n",
       "      <td>0.000000</td>\n",
       "      <td>2630.000000</td>\n",
       "      <td>1.000000</td>\n",
       "      <td>10.000000</td>\n",
       "      <td>0.000000</td>\n",
       "    </tr>\n",
       "    <tr>\n",
       "      <th>25%</th>\n",
       "      <td>25.000000</td>\n",
       "      <td>1.000000</td>\n",
       "      <td>15.000000</td>\n",
       "      <td>0.000000</td>\n",
       "      <td>24395.500000</td>\n",
       "      <td>29.000000</td>\n",
       "      <td>82.000000</td>\n",
       "      <td>0.000000</td>\n",
       "    </tr>\n",
       "    <tr>\n",
       "      <th>50%</th>\n",
       "      <td>36.000000</td>\n",
       "      <td>1.000000</td>\n",
       "      <td>28.000000</td>\n",
       "      <td>0.000000</td>\n",
       "      <td>31738.000000</td>\n",
       "      <td>135.000000</td>\n",
       "      <td>155.000000</td>\n",
       "      <td>0.000000</td>\n",
       "    </tr>\n",
       "    <tr>\n",
       "      <th>75%</th>\n",
       "      <td>49.000000</td>\n",
       "      <td>1.000000</td>\n",
       "      <td>35.000000</td>\n",
       "      <td>1.000000</td>\n",
       "      <td>39474.500000</td>\n",
       "      <td>152.000000</td>\n",
       "      <td>227.000000</td>\n",
       "      <td>0.000000</td>\n",
       "    </tr>\n",
       "    <tr>\n",
       "      <th>max</th>\n",
       "      <td>85.000000</td>\n",
       "      <td>1.000000</td>\n",
       "      <td>52.000000</td>\n",
       "      <td>1.000000</td>\n",
       "      <td>540165.000000</td>\n",
       "      <td>163.000000</td>\n",
       "      <td>299.000000</td>\n",
       "      <td>1.000000</td>\n",
       "    </tr>\n",
       "  </tbody>\n",
       "</table>\n",
       "</div>"
      ],
      "text/plain": [
       "               Umur           SIM   Kode_Daerah  Sudah_Asuransi  \\\n",
       "count  47639.000000  47639.000000  47639.000000    47639.000000   \n",
       "mean      38.815466      0.997922     26.331514        0.457608   \n",
       "std       15.548817      0.045540     13.213353        0.498205   \n",
       "min       20.000000      0.000000      0.000000        0.000000   \n",
       "25%       25.000000      1.000000     15.000000        0.000000   \n",
       "50%       36.000000      1.000000     28.000000        0.000000   \n",
       "75%       49.000000      1.000000     35.000000        1.000000   \n",
       "max       85.000000      1.000000     52.000000        1.000000   \n",
       "\n",
       "               Premi  Kanal_Penjualan  Lama_Berlangganan      Tertarik  \n",
       "count   47639.000000     47639.000000       47639.000000  47639.000000  \n",
       "mean    30626.481202       112.180566         154.447574      0.123029  \n",
       "std     17404.792248        54.162703          83.642137      0.328474  \n",
       "min      2630.000000         1.000000          10.000000      0.000000  \n",
       "25%     24395.500000        29.000000          82.000000      0.000000  \n",
       "50%     31738.000000       135.000000         155.000000      0.000000  \n",
       "75%     39474.500000       152.000000         227.000000      0.000000  \n",
       "max    540165.000000       163.000000         299.000000      1.000000  "
      ]
     },
     "execution_count": 93,
     "metadata": {},
     "output_type": "execute_result"
    }
   ],
   "source": [
    "DataTest.describe()"
   ]
  },
  {
   "cell_type": "code",
   "execution_count": 94,
   "metadata": {
    "colab": {
     "base_uri": "https://localhost:8080/"
    },
    "id": "oKNSwmMJMMkA",
    "outputId": "8e7b8bd7-f294-44ea-b117-88260019893e"
   },
   "outputs": [
    {
     "name": "stdout",
     "output_type": "stream",
     "text": [
      "<class 'pandas.core.frame.DataFrame'>\n",
      "RangeIndex: 285831 entries, 0 to 285830\n",
      "Data columns (total 12 columns):\n",
      " #   Column             Non-Null Count   Dtype  \n",
      "---  ------             --------------   -----  \n",
      " 0   id                 285831 non-null  int64  \n",
      " 1   Jenis_Kelamin      271391 non-null  object \n",
      " 2   Umur               271617 non-null  float64\n",
      " 3   SIM                271427 non-null  float64\n",
      " 4   Kode_Daerah        271525 non-null  float64\n",
      " 5   Sudah_Asuransi     271602 non-null  float64\n",
      " 6   Umur_Kendaraan     271556 non-null  object \n",
      " 7   Kendaraan_Rusak    271643 non-null  object \n",
      " 8   Premi              271262 non-null  float64\n",
      " 9   Kanal_Penjualan    271532 non-null  float64\n",
      " 10  Lama_Berlangganan  271839 non-null  float64\n",
      " 11  Tertarik           285831 non-null  int64  \n",
      "dtypes: float64(7), int64(2), object(3)\n",
      "memory usage: 26.2+ MB\n"
     ]
    }
   ],
   "source": [
    "DataTrain.info()"
   ]
  },
  {
   "cell_type": "code",
   "execution_count": 95,
   "metadata": {
    "colab": {
     "base_uri": "https://localhost:8080/"
    },
    "id": "0WyjgOcOMPF3",
    "outputId": "4fac8c83-a439-4d4e-8765-5a1a4f38d163"
   },
   "outputs": [
    {
     "name": "stdout",
     "output_type": "stream",
     "text": [
      "<class 'pandas.core.frame.DataFrame'>\n",
      "RangeIndex: 47639 entries, 0 to 47638\n",
      "Data columns (total 11 columns):\n",
      " #   Column             Non-Null Count  Dtype \n",
      "---  ------             --------------  ----- \n",
      " 0   Jenis_Kelamin      47639 non-null  object\n",
      " 1   Umur               47639 non-null  int64 \n",
      " 2   SIM                47639 non-null  int64 \n",
      " 3   Kode_Daerah        47639 non-null  int64 \n",
      " 4   Sudah_Asuransi     47639 non-null  int64 \n",
      " 5   Umur_Kendaraan     47639 non-null  object\n",
      " 6   Kendaraan_Rusak    47639 non-null  object\n",
      " 7   Premi              47639 non-null  int64 \n",
      " 8   Kanal_Penjualan    47639 non-null  int64 \n",
      " 9   Lama_Berlangganan  47639 non-null  int64 \n",
      " 10  Tertarik           47639 non-null  int64 \n",
      "dtypes: int64(8), object(3)\n",
      "memory usage: 4.0+ MB\n"
     ]
    }
   ],
   "source": [
    "DataTest.info()"
   ]
  },
  {
   "cell_type": "code",
   "execution_count": 96,
   "metadata": {
    "colab": {
     "base_uri": "https://localhost:8080/"
    },
    "id": "L6wg30qqLI1B",
    "outputId": "c2775fea-9643-4ae1-cc27-ccb198e590e8"
   },
   "outputs": [
    {
     "data": {
      "text/plain": [
       "id                       0\n",
       "Jenis_Kelamin        14440\n",
       "Umur                 14214\n",
       "SIM                  14404\n",
       "Kode_Daerah          14306\n",
       "Sudah_Asuransi       14229\n",
       "Umur_Kendaraan       14275\n",
       "Kendaraan_Rusak      14188\n",
       "Premi                14569\n",
       "Kanal_Penjualan      14299\n",
       "Lama_Berlangganan    13992\n",
       "Tertarik                 0\n",
       "dtype: int64"
      ]
     },
     "execution_count": 96,
     "metadata": {},
     "output_type": "execute_result"
    }
   ],
   "source": [
    "DataTrain.isnull().sum()"
   ]
  },
  {
   "cell_type": "code",
   "execution_count": 97,
   "metadata": {
    "id": "JgaylnbfLwMv"
   },
   "outputs": [],
   "source": [
    "DataTrain.dropna(inplace = True)"
   ]
  },
  {
   "cell_type": "code",
   "execution_count": 98,
   "metadata": {
    "colab": {
     "base_uri": "https://localhost:8080/"
    },
    "id": "wgNNAQCcNuNv",
    "outputId": "433c1495-0ac6-4f11-fcfa-7c5183607421"
   },
   "outputs": [
    {
     "data": {
      "text/plain": [
       "id                   0\n",
       "Jenis_Kelamin        0\n",
       "Umur                 0\n",
       "SIM                  0\n",
       "Kode_Daerah          0\n",
       "Sudah_Asuransi       0\n",
       "Umur_Kendaraan       0\n",
       "Kendaraan_Rusak      0\n",
       "Premi                0\n",
       "Kanal_Penjualan      0\n",
       "Lama_Berlangganan    0\n",
       "Tertarik             0\n",
       "dtype: int64"
      ]
     },
     "execution_count": 98,
     "metadata": {},
     "output_type": "execute_result"
    }
   ],
   "source": [
    "DataTrain.isnull().sum()"
   ]
  },
  {
   "cell_type": "code",
   "execution_count": 99,
   "metadata": {},
   "outputs": [],
   "source": [
    "DataTrain['Jenis_Kelamin'].replace('Wanita', 1, inplace = True)\n",
    "DataTrain['Jenis_Kelamin'].replace('Pria', 2, inplace = True)\n",
    "DataTrain['Kendaraan_Rusak'].replace('Pernah', 1, inplace = True)\n",
    "DataTrain['Kendaraan_Rusak'].replace('Tidak', 2, inplace = True)\n",
    "DataTrain['Umur_Kendaraan'].replace('1-2 Tahun', 1, inplace = True)\n",
    "DataTrain['Umur_Kendaraan'].replace('< 1 Tahun', 2, inplace = True)\n",
    "DataTrain['Umur_Kendaraan'].replace('> 2 Tahun', 3, inplace = True)"
   ]
  },
  {
   "cell_type": "code",
   "execution_count": 100,
   "metadata": {
    "colab": {
     "base_uri": "https://localhost:8080/"
    },
    "id": "TYQkcL5VLOs3",
    "outputId": "99bcdded-0b3c-4dd9-9de1-1d99d2e9598e"
   },
   "outputs": [
    {
     "data": {
      "text/plain": [
       "Jenis_Kelamin        0\n",
       "Umur                 0\n",
       "SIM                  0\n",
       "Kode_Daerah          0\n",
       "Sudah_Asuransi       0\n",
       "Umur_Kendaraan       0\n",
       "Kendaraan_Rusak      0\n",
       "Premi                0\n",
       "Kanal_Penjualan      0\n",
       "Lama_Berlangganan    0\n",
       "Tertarik             0\n",
       "dtype: int64"
      ]
     },
     "execution_count": 100,
     "metadata": {},
     "output_type": "execute_result"
    }
   ],
   "source": [
    "DataTest.isnull().sum()"
   ]
  },
  {
   "cell_type": "code",
   "execution_count": 101,
   "metadata": {},
   "outputs": [],
   "source": [
    "DataTest['Jenis_Kelamin'].replace('Wanita', 1, inplace = True)\n",
    "DataTest['Jenis_Kelamin'].replace('Pria', 2, inplace = True)\n",
    "DataTest['Kendaraan_Rusak'].replace('Pernah', 1, inplace = True)\n",
    "DataTest['Kendaraan_Rusak'].replace('Tidak', 2, inplace = True)\n",
    "DataTest['Umur_Kendaraan'].replace('1-2 Tahun', 1, inplace = True)\n",
    "DataTest['Umur_Kendaraan'].replace('< 1 Tahun', 2, inplace = True)\n",
    "DataTest['Umur_Kendaraan'].replace('> 2 Tahun', 3, inplace = True)"
   ]
  },
  {
   "cell_type": "code",
   "execution_count": 102,
   "metadata": {
    "colab": {
     "base_uri": "https://localhost:8080/"
    },
    "id": "yHZi-h1FLagB",
    "outputId": "26cf973d-dee8-450e-cc85-c99f62220b90"
   },
   "outputs": [
    {
     "name": "stdout",
     "output_type": "stream",
     "text": [
      "Banyaknya duplikat data pada Data Train :  0\n",
      "Banyaknya duplikat data pada Data Test :  3\n"
     ]
    }
   ],
   "source": [
    "print(\"Banyaknya duplikat data pada Data Train : \", DataTrain.duplicated().sum())\n",
    "print(\"Banyaknya duplikat data pada Data Test : \", DataTest.duplicated().sum())"
   ]
  },
  {
   "cell_type": "code",
   "execution_count": 103,
   "metadata": {
    "colab": {
     "base_uri": "https://localhost:8080/",
     "height": 424
    },
    "id": "mlYqIH4GOrRW",
    "outputId": "9bc331c0-1cdd-4415-99f5-d0a2b5f06c7b"
   },
   "outputs": [
    {
     "data": {
      "text/html": [
       "<div>\n",
       "<style scoped>\n",
       "    .dataframe tbody tr th:only-of-type {\n",
       "        vertical-align: middle;\n",
       "    }\n",
       "\n",
       "    .dataframe tbody tr th {\n",
       "        vertical-align: top;\n",
       "    }\n",
       "\n",
       "    .dataframe thead th {\n",
       "        text-align: right;\n",
       "    }\n",
       "</style>\n",
       "<table border=\"1\" class=\"dataframe\">\n",
       "  <thead>\n",
       "    <tr style=\"text-align: right;\">\n",
       "      <th></th>\n",
       "      <th>Jenis_Kelamin</th>\n",
       "      <th>Umur</th>\n",
       "      <th>SIM</th>\n",
       "      <th>Kode_Daerah</th>\n",
       "      <th>Sudah_Asuransi</th>\n",
       "      <th>Umur_Kendaraan</th>\n",
       "      <th>Kendaraan_Rusak</th>\n",
       "      <th>Premi</th>\n",
       "      <th>Kanal_Penjualan</th>\n",
       "      <th>Lama_Berlangganan</th>\n",
       "      <th>Tertarik</th>\n",
       "    </tr>\n",
       "  </thead>\n",
       "  <tbody>\n",
       "    <tr>\n",
       "      <th>0</th>\n",
       "      <td>1</td>\n",
       "      <td>49</td>\n",
       "      <td>1</td>\n",
       "      <td>8</td>\n",
       "      <td>0</td>\n",
       "      <td>1</td>\n",
       "      <td>1</td>\n",
       "      <td>46963</td>\n",
       "      <td>26</td>\n",
       "      <td>145</td>\n",
       "      <td>0</td>\n",
       "    </tr>\n",
       "    <tr>\n",
       "      <th>1</th>\n",
       "      <td>2</td>\n",
       "      <td>22</td>\n",
       "      <td>1</td>\n",
       "      <td>47</td>\n",
       "      <td>1</td>\n",
       "      <td>2</td>\n",
       "      <td>2</td>\n",
       "      <td>39624</td>\n",
       "      <td>152</td>\n",
       "      <td>241</td>\n",
       "      <td>0</td>\n",
       "    </tr>\n",
       "    <tr>\n",
       "      <th>2</th>\n",
       "      <td>2</td>\n",
       "      <td>24</td>\n",
       "      <td>1</td>\n",
       "      <td>28</td>\n",
       "      <td>1</td>\n",
       "      <td>2</td>\n",
       "      <td>2</td>\n",
       "      <td>110479</td>\n",
       "      <td>152</td>\n",
       "      <td>62</td>\n",
       "      <td>0</td>\n",
       "    </tr>\n",
       "    <tr>\n",
       "      <th>3</th>\n",
       "      <td>2</td>\n",
       "      <td>46</td>\n",
       "      <td>1</td>\n",
       "      <td>8</td>\n",
       "      <td>1</td>\n",
       "      <td>1</td>\n",
       "      <td>2</td>\n",
       "      <td>36266</td>\n",
       "      <td>124</td>\n",
       "      <td>34</td>\n",
       "      <td>0</td>\n",
       "    </tr>\n",
       "    <tr>\n",
       "      <th>4</th>\n",
       "      <td>2</td>\n",
       "      <td>35</td>\n",
       "      <td>1</td>\n",
       "      <td>23</td>\n",
       "      <td>0</td>\n",
       "      <td>1</td>\n",
       "      <td>1</td>\n",
       "      <td>26963</td>\n",
       "      <td>152</td>\n",
       "      <td>229</td>\n",
       "      <td>0</td>\n",
       "    </tr>\n",
       "    <tr>\n",
       "      <th>...</th>\n",
       "      <td>...</td>\n",
       "      <td>...</td>\n",
       "      <td>...</td>\n",
       "      <td>...</td>\n",
       "      <td>...</td>\n",
       "      <td>...</td>\n",
       "      <td>...</td>\n",
       "      <td>...</td>\n",
       "      <td>...</td>\n",
       "      <td>...</td>\n",
       "      <td>...</td>\n",
       "    </tr>\n",
       "    <tr>\n",
       "      <th>47634</th>\n",
       "      <td>2</td>\n",
       "      <td>61</td>\n",
       "      <td>1</td>\n",
       "      <td>46</td>\n",
       "      <td>0</td>\n",
       "      <td>3</td>\n",
       "      <td>1</td>\n",
       "      <td>31039</td>\n",
       "      <td>124</td>\n",
       "      <td>67</td>\n",
       "      <td>0</td>\n",
       "    </tr>\n",
       "    <tr>\n",
       "      <th>47635</th>\n",
       "      <td>2</td>\n",
       "      <td>41</td>\n",
       "      <td>1</td>\n",
       "      <td>15</td>\n",
       "      <td>0</td>\n",
       "      <td>1</td>\n",
       "      <td>1</td>\n",
       "      <td>2630</td>\n",
       "      <td>157</td>\n",
       "      <td>232</td>\n",
       "      <td>0</td>\n",
       "    </tr>\n",
       "    <tr>\n",
       "      <th>47636</th>\n",
       "      <td>2</td>\n",
       "      <td>24</td>\n",
       "      <td>1</td>\n",
       "      <td>29</td>\n",
       "      <td>1</td>\n",
       "      <td>2</td>\n",
       "      <td>2</td>\n",
       "      <td>33101</td>\n",
       "      <td>152</td>\n",
       "      <td>211</td>\n",
       "      <td>0</td>\n",
       "    </tr>\n",
       "    <tr>\n",
       "      <th>47637</th>\n",
       "      <td>2</td>\n",
       "      <td>59</td>\n",
       "      <td>1</td>\n",
       "      <td>30</td>\n",
       "      <td>0</td>\n",
       "      <td>1</td>\n",
       "      <td>1</td>\n",
       "      <td>37788</td>\n",
       "      <td>26</td>\n",
       "      <td>239</td>\n",
       "      <td>1</td>\n",
       "    </tr>\n",
       "    <tr>\n",
       "      <th>47638</th>\n",
       "      <td>2</td>\n",
       "      <td>52</td>\n",
       "      <td>1</td>\n",
       "      <td>31</td>\n",
       "      <td>0</td>\n",
       "      <td>1</td>\n",
       "      <td>2</td>\n",
       "      <td>2630</td>\n",
       "      <td>124</td>\n",
       "      <td>170</td>\n",
       "      <td>0</td>\n",
       "    </tr>\n",
       "  </tbody>\n",
       "</table>\n",
       "<p>47636 rows × 11 columns</p>\n",
       "</div>"
      ],
      "text/plain": [
       "       Jenis_Kelamin  Umur  SIM  Kode_Daerah  Sudah_Asuransi  Umur_Kendaraan  \\\n",
       "0                  1    49    1            8               0               1   \n",
       "1                  2    22    1           47               1               2   \n",
       "2                  2    24    1           28               1               2   \n",
       "3                  2    46    1            8               1               1   \n",
       "4                  2    35    1           23               0               1   \n",
       "...              ...   ...  ...          ...             ...             ...   \n",
       "47634              2    61    1           46               0               3   \n",
       "47635              2    41    1           15               0               1   \n",
       "47636              2    24    1           29               1               2   \n",
       "47637              2    59    1           30               0               1   \n",
       "47638              2    52    1           31               0               1   \n",
       "\n",
       "       Kendaraan_Rusak   Premi  Kanal_Penjualan  Lama_Berlangganan  Tertarik  \n",
       "0                    1   46963               26                145         0  \n",
       "1                    2   39624              152                241         0  \n",
       "2                    2  110479              152                 62         0  \n",
       "3                    2   36266              124                 34         0  \n",
       "4                    1   26963              152                229         0  \n",
       "...                ...     ...              ...                ...       ...  \n",
       "47634                1   31039              124                 67         0  \n",
       "47635                1    2630              157                232         0  \n",
       "47636                2   33101              152                211         0  \n",
       "47637                1   37788               26                239         1  \n",
       "47638                2    2630              124                170         0  \n",
       "\n",
       "[47636 rows x 11 columns]"
      ]
     },
     "execution_count": 103,
     "metadata": {},
     "output_type": "execute_result"
    }
   ],
   "source": [
    "DataTest.drop_duplicates()"
   ]
  },
  {
   "cell_type": "code",
   "execution_count": 104,
   "metadata": {
    "colab": {
     "base_uri": "https://localhost:8080/"
    },
    "id": "9w8X-PV-Ox4f",
    "outputId": "ec5f46bf-41a6-415e-95c8-ebeb2cab4f2d"
   },
   "outputs": [
    {
     "name": "stdout",
     "output_type": "stream",
     "text": [
      "Banyak baris dan kolom untuk Data Train adalah :  (171068, 12)\n",
      "Banyak baris dan kolom untuk Data Test adalah :  (47639, 11)\n"
     ]
    }
   ],
   "source": [
    "print(\"Banyak baris dan kolom untuk Data Train adalah : \", DataTrain.shape)\n",
    "print(\"Banyak baris dan kolom untuk Data Test adalah : \", DataTest.shape)"
   ]
  },
  {
   "cell_type": "code",
   "execution_count": 105,
   "metadata": {
    "colab": {
     "base_uri": "https://localhost:8080/"
    },
    "id": "aDcUK-2VABb8",
    "outputId": "e8c7634a-400a-4c73-e30b-384083e51c23"
   },
   "outputs": [
    {
     "name": "stdout",
     "output_type": "stream",
     "text": [
      "<class 'pandas.core.frame.DataFrame'>\n",
      "Int64Index: 171068 entries, 0 to 285830\n",
      "Data columns (total 12 columns):\n",
      " #   Column             Non-Null Count   Dtype  \n",
      "---  ------             --------------   -----  \n",
      " 0   id                 171068 non-null  int64  \n",
      " 1   Jenis_Kelamin      171068 non-null  int64  \n",
      " 2   Umur               171068 non-null  float64\n",
      " 3   SIM                171068 non-null  float64\n",
      " 4   Kode_Daerah        171068 non-null  float64\n",
      " 5   Sudah_Asuransi     171068 non-null  float64\n",
      " 6   Umur_Kendaraan     171068 non-null  int64  \n",
      " 7   Kendaraan_Rusak    171068 non-null  int64  \n",
      " 8   Premi              171068 non-null  float64\n",
      " 9   Kanal_Penjualan    171068 non-null  float64\n",
      " 10  Lama_Berlangganan  171068 non-null  float64\n",
      " 11  Tertarik           171068 non-null  int64  \n",
      "dtypes: float64(7), int64(5)\n",
      "memory usage: 17.0 MB\n"
     ]
    }
   ],
   "source": [
    "encode = LabelEncoder()\n",
    "DataTrain['Jenis_Kelamin'] = encode.fit_transform(DataTrain['Jenis_Kelamin'])\n",
    "encode = LabelEncoder()\n",
    "DataTrain['Umur_Kendaraan'] = encode.fit_transform(DataTrain['Umur_Kendaraan'])\n",
    "encode = LabelEncoder()\n",
    "DataTrain['Kendaraan_Rusak'] = encode.fit_transform(DataTrain['Kendaraan_Rusak'])\n",
    "DataTrain.info()"
   ]
  },
  {
   "cell_type": "code",
   "execution_count": 106,
   "metadata": {
    "colab": {
     "base_uri": "https://localhost:8080/"
    },
    "id": "wE6DdYhT_7Gr",
    "outputId": "c64be5e9-6b5d-4fa6-816c-2988efe4361c"
   },
   "outputs": [
    {
     "name": "stdout",
     "output_type": "stream",
     "text": [
      "<class 'pandas.core.frame.DataFrame'>\n",
      "Int64Index: 171068 entries, 0 to 285830\n",
      "Data columns (total 12 columns):\n",
      " #   Column             Non-Null Count   Dtype  \n",
      "---  ------             --------------   -----  \n",
      " 0   id                 171068 non-null  int64  \n",
      " 1   Jenis_Kelamin      171068 non-null  int64  \n",
      " 2   Umur               171068 non-null  float64\n",
      " 3   SIM                171068 non-null  float64\n",
      " 4   Kode_Daerah        171068 non-null  float64\n",
      " 5   Sudah_Asuransi     171068 non-null  float64\n",
      " 6   Umur_Kendaraan     171068 non-null  int64  \n",
      " 7   Kendaraan_Rusak    171068 non-null  int64  \n",
      " 8   Premi              171068 non-null  float64\n",
      " 9   Kanal_Penjualan    171068 non-null  float64\n",
      " 10  Lama_Berlangganan  171068 non-null  float64\n",
      " 11  Tertarik           171068 non-null  int64  \n",
      "dtypes: float64(7), int64(5)\n",
      "memory usage: 17.0 MB\n"
     ]
    }
   ],
   "source": [
    "encode = LabelEncoder()\n",
    "DataTest['Jenis_Kelamin'] = encode.fit_transform(DataTest['Jenis_Kelamin'])\n",
    "encode = LabelEncoder()\n",
    "DataTest['Umur_Kendaraan'] = encode.fit_transform(DataTest['Umur_Kendaraan'])\n",
    "encode = LabelEncoder()\n",
    "DataTest['Kendaraan_Rusak'] = encode.fit_transform(DataTest['Kendaraan_Rusak'])\n",
    "DataTrain.info()"
   ]
  },
  {
   "cell_type": "code",
   "execution_count": 107,
   "metadata": {
    "colab": {
     "base_uri": "https://localhost:8080/",
     "height": 879
    },
    "id": "Qe0kdD1gAb1j",
    "outputId": "ef493f14-4eef-44bd-a04c-456e2472f125"
   },
   "outputs": [
    {
     "data": {
      "image/png": "[encoded data removed]",
      "text/plain": [
       "<Figure size 1440x1080 with 6 Axes>"
      ]
     },
     "metadata": {
      "needs_background": "light"
     },
     "output_type": "display_data"
    }
   ],
   "source": [
    "df_num = DataTrain.iloc[:,[0,2,4,8,9,10]]\n",
    "hist = df_num.hist(figsize=(20,15))"
   ]
  },
  {
   "cell_type": "code",
   "execution_count": 108,
   "metadata": {
    "colab": {
     "base_uri": "https://localhost:8080/",
     "height": 298
    },
    "id": "8PibeHG0Akdp",
    "outputId": "6300c8e7-c2b2-4978-f6ee-464970968e32"
   },
   "outputs": [
    {
     "data": {
      "text/plain": [
       "<AxesSubplot:xlabel='Jenis_Kelamin', ylabel='count'>"
      ]
     },
     "execution_count": 108,
     "metadata": {},
     "output_type": "execute_result"
    },
    {
     "data": {
      "image/png": "[encoded data removed]",
      "text/plain": [
       "<Figure size 432x288 with 1 Axes>"
      ]
     },
     "metadata": {
      "needs_background": "light"
     },
     "output_type": "display_data"
    }
   ],
   "source": [
    "sns.countplot(x = 'Jenis_Kelamin', data = DataTrain)"
   ]
  },
  {
   "cell_type": "code",
   "execution_count": 109,
   "metadata": {
    "colab": {
     "base_uri": "https://localhost:8080/",
     "height": 298
    },
    "id": "T2AIU9KPAwp7",
    "outputId": "2fc3f6a0-c62b-4e49-88b7-52d397373b3a"
   },
   "outputs": [
    {
     "data": {
      "text/plain": [
       "<AxesSubplot:xlabel='Sudah_Asuransi', ylabel='count'>"
      ]
     },
     "execution_count": 109,
     "metadata": {},
     "output_type": "execute_result"
    },
    {
     "data": {
      "image/png": "[encoded data removed]",
      "text/plain": [
       "<Figure size 432x288 with 1 Axes>"
      ]
     },
     "metadata": {
      "needs_background": "light"
     },
     "output_type": "display_data"
    }
   ],
   "source": [
    "sns.countplot(x = 'Sudah_Asuransi', data = DataTrain)"
   ]
  },
  {
   "cell_type": "code",
   "execution_count": 110,
   "metadata": {
    "colab": {
     "base_uri": "https://localhost:8080/",
     "height": 297
    },
    "id": "3-QWK6kaAyfJ",
    "outputId": "4c23116b-6e11-46fe-ecf5-61d2715bbc04"
   },
   "outputs": [
    {
     "data": {
      "text/plain": [
       "<AxesSubplot:xlabel='SIM', ylabel='count'>"
      ]
     },
     "execution_count": 110,
     "metadata": {},
     "output_type": "execute_result"
    },
    {
     "data": {
      "image/png": "[encoded data removed]",
      "text/plain": [
       "<Figure size 432x288 with 1 Axes>"
      ]
     },
     "metadata": {
      "needs_background": "light"
     },
     "output_type": "display_data"
    }
   ],
   "source": [
    "sns.countplot(x = 'SIM', data = DataTrain)"
   ]
  },
  {
   "cell_type": "code",
   "execution_count": 111,
   "metadata": {
    "colab": {
     "base_uri": "https://localhost:8080/",
     "height": 298
    },
    "id": "YZiDChbjA1iy",
    "outputId": "6f358c85-c47b-4475-f9dc-346a31956396"
   },
   "outputs": [
    {
     "data": {
      "text/plain": [
       "<AxesSubplot:xlabel='Umur_Kendaraan', ylabel='count'>"
      ]
     },
     "execution_count": 111,
     "metadata": {},
     "output_type": "execute_result"
    },
    {
     "data": {
      "image/png": "[encoded data removed]",
      "text/plain": [
       "<Figure size 432x288 with 1 Axes>"
      ]
     },
     "metadata": {
      "needs_background": "light"
     },
     "output_type": "display_data"
    }
   ],
   "source": [
    "sns.countplot(x = 'Umur_Kendaraan', data = DataTrain)"
   ]
  },
  {
   "cell_type": "code",
   "execution_count": 112,
   "metadata": {
    "colab": {
     "base_uri": "https://localhost:8080/",
     "height": 298
    },
    "id": "-TmVxmSxA4V6",
    "outputId": "dd1e82dc-b6f1-42c4-ab11-1f8fff800162"
   },
   "outputs": [
    {
     "data": {
      "text/plain": [
       "<AxesSubplot:xlabel='Kendaraan_Rusak', ylabel='count'>"
      ]
     },
     "execution_count": 112,
     "metadata": {},
     "output_type": "execute_result"
    },
    {
     "data": {
      "image/png": "[encoded data removed]",
      "text/plain": [
       "<Figure size 432x288 with 1 Axes>"
      ]
     },
     "metadata": {
      "needs_background": "light"
     },
     "output_type": "display_data"
    }
   ],
   "source": [
    "sns.countplot(x = 'Kendaraan_Rusak', data = DataTrain)"
   ]
  },
  {
   "cell_type": "code",
   "execution_count": 113,
   "metadata": {
    "colab": {
     "base_uri": "https://localhost:8080/",
     "height": 297
    },
    "id": "g5YUeQ04A6kR",
    "outputId": "2f949486-5715-4b6d-e8fd-67bba3ed530d"
   },
   "outputs": [
    {
     "data": {
      "text/plain": [
       "<AxesSubplot:xlabel='Tertarik', ylabel='count'>"
      ]
     },
     "execution_count": 113,
     "metadata": {},
     "output_type": "execute_result"
    },
    {
     "data": {
      "image/png": "[encoded data removed]",
      "text/plain": [
       "<Figure size 432x288 with 1 Axes>"
      ]
     },
     "metadata": {
      "needs_background": "light"
     },
     "output_type": "display_data"
    }
   ],
   "source": [
    "sns.countplot(x = 'Tertarik', data = DataTrain)"
   ]
  },
  {
   "cell_type": "code",
   "execution_count": 114,
   "metadata": {
    "colab": {
     "base_uri": "https://localhost:8080/"
    },
    "id": "h29QJ2qdBJYc",
    "outputId": "8d97c244-ff41-4fa3-840d-043bd713bcbe"
   },
   "outputs": [
    {
     "name": "stdout",
     "output_type": "stream",
     "text": [
      "<class 'pandas.core.frame.DataFrame'>\n",
      "RangeIndex: 47639 entries, 0 to 47638\n",
      "Data columns (total 11 columns):\n",
      " #   Column             Non-Null Count  Dtype\n",
      "---  ------             --------------  -----\n",
      " 0   Jenis_Kelamin      47639 non-null  int64\n",
      " 1   Umur               47639 non-null  int64\n",
      " 2   SIM                47639 non-null  int64\n",
      " 3   Kode_Daerah        47639 non-null  int64\n",
      " 4   Sudah_Asuransi     47639 non-null  int64\n",
      " 5   Umur_Kendaraan     47639 non-null  int64\n",
      " 6   Kendaraan_Rusak    47639 non-null  int64\n",
      " 7   Premi              47639 non-null  int64\n",
      " 8   Kanal_Penjualan    47639 non-null  int64\n",
      " 9   Lama_Berlangganan  47639 non-null  int64\n",
      " 10  Tertarik           47639 non-null  int64\n",
      "dtypes: int64(11)\n",
      "memory usage: 4.0 MB\n"
     ]
    }
   ],
   "source": [
    "DataTest.info()"
   ]
  },
  {
   "cell_type": "code",
   "execution_count": 115,
   "metadata": {
    "colab": {
     "base_uri": "https://localhost:8080/",
     "height": 879
    },
    "id": "xzIoaj5NA_0K",
    "outputId": "940fb7ec-0bfd-402e-fe9d-32f98296467b"
   },
   "outputs": [
    {
     "data": {
      "image/png": "[encoded data removed]",
      "text/plain": [
       "<Figure size 1440x1080 with 12 Axes>"
      ]
     },
     "metadata": {
      "needs_background": "light"
     },
     "output_type": "display_data"
    }
   ],
   "source": [
    "\n",
    "hist = DataTrain.hist(figsize=(20,15))"
   ]
  },
  {
   "cell_type": "code",
   "execution_count": 116,
   "metadata": {},
   "outputs": [
    {
     "data": {
      "image/png": "[encoded data removed]",
      "text/plain": [
       "<Figure size 1080x1080 with 2 Axes>"
      ]
     },
     "metadata": {
      "needs_background": "light"
     },
     "output_type": "display_data"
    }
   ],
   "source": [
    "plt.figure(figsize = (15,15))\n",
    "Korelasi = DataTrain.corr()\n",
    "sns.heatmap(Korelasi, annot = True,fmt=\"f\").set_title(\"Korelasi DataTraining\")\n",
    "plt.show()"
   ]
  },
  {
   "cell_type": "code",
   "execution_count": 117,
   "metadata": {},
   "outputs": [],
   "source": [
    "Scaler = StandardScaler()"
   ]
  },
  {
   "cell_type": "code",
   "execution_count": 118,
   "metadata": {},
   "outputs": [],
   "source": [
    "x = DataTrain['Kendaraan_Rusak'].values.reshape(-1,1)\n",
    "y = DataTrain['Sudah_Asuransi'].values.reshape(-1,1)"
   ]
  },
  {
   "cell_type": "code",
   "execution_count": 119,
   "metadata": {},
   "outputs": [],
   "source": [
    "#Metrics\n",
    "from sklearn.metrics import make_scorer, accuracy_score,precision_score\n",
    "from sklearn.metrics import classification_report\n",
    "\n",
    "# Import libarary confusion matrix\n",
    "from sklearn.metrics import confusion_matrix\n",
    "\n",
    "from sklearn.metrics import accuracy_score ,precision_score,recall_score,f1_score"
   ]
  },
  {
   "cell_type": "code",
   "execution_count": 120,
   "metadata": {},
   "outputs": [],
   "source": [
    "from sklearn.model_selection import train_test_split\n",
    "x_train,x_test,y_train,y_test = train_test_split(x, y, train_size = 0.8, test_size = 0.2, random_state = 100)"
   ]
  },
  {
   "cell_type": "markdown",
   "metadata": {},
   "source": [
    "# Naive Bayes"
   ]
  },
  {
   "cell_type": "code",
   "execution_count": 121,
   "metadata": {},
   "outputs": [
    {
     "name": "stdout",
     "output_type": "stream",
     "text": [
      "Confusion matrix for Naive Bayes\n",
      " [[16407  2072]\n",
      " [  892 14843]]\n",
      "accuracy_Naive Bayes: 0.913\n",
      "precision_Naive Bayes: 0.913\n",
      "recall_Naive Bayes: 0.913\n",
      "f1-score_Naive Bayes : 0.913\n",
      "              precision    recall  f1-score   support\n",
      "\n",
      "         0.0       0.95      0.89      0.92     18479\n",
      "         1.0       0.88      0.94      0.91     15735\n",
      "\n",
      "    accuracy                           0.91     34214\n",
      "   macro avg       0.91      0.92      0.91     34214\n",
      "weighted avg       0.92      0.91      0.91     34214\n",
      " \n",
      "\n",
      "\n"
     ]
    }
   ],
   "source": [
    "from sklearn.naive_bayes import GaussianNB\n",
    "gaussian = GaussianNB()\n",
    "gaussian.fit(x_train, y_train)\n",
    "Y_pred = gaussian.predict(x_test) \n",
    "accuracy_nb=round(accuracy_score(y_test,Y_pred)* 100, 2)\n",
    "acc_gaussian = round(gaussian.score(x_train, y_train) * 100, 2)\n",
    "\n",
    "cm = confusion_matrix(y_test, Y_pred)\n",
    "accuracy = accuracy_score(y_test,Y_pred)\n",
    "precision =precision_score(y_test, Y_pred,average='micro')\n",
    "recall =  recall_score(y_test, Y_pred,average='micro')\n",
    "f1 =f1_score(y_test,Y_pred,average='micro')\n",
    "print('Confusion matrix for Naive Bayes\\n',cm)\n",
    "print('accuracy_Naive Bayes: %.3f' %accuracy)\n",
    "print('precision_Naive Bayes: %.3f' %precision)\n",
    "print('recall_Naive Bayes: %.3f' %recall)\n",
    "print('f1-score_Naive Bayes : %.3f' %f1)\n",
    "print(classification_report(y_test,Y_pred),\"\\n\\n\")"
   ]
  },
  {
   "cell_type": "markdown",
   "metadata": {},
   "source": [
    "# Decision Tree"
   ]
  },
  {
   "cell_type": "code",
   "execution_count": 122,
   "metadata": {
    "scrolled": false
   },
   "outputs": [
    {
     "name": "stdout",
     "output_type": "stream",
     "text": [
      "Confusion matrix for DecisionTree\n",
      " [[16407  2072]\n",
      " [  892 14843]]\n",
      "accuracy_DecisionTree: 0.913\n",
      "precision_DecisionTree: 0.913\n",
      "recall_DecisionTree: 0.913\n",
      "f1-score_DecisionTree : 0.913\n",
      "              precision    recall  f1-score   support\n",
      "\n",
      "         0.0       0.95      0.89      0.92     18479\n",
      "         1.0       0.88      0.94      0.91     15735\n",
      "\n",
      "    accuracy                           0.91     34214\n",
      "   macro avg       0.91      0.92      0.91     34214\n",
      "weighted avg       0.92      0.91      0.91     34214\n",
      " \n",
      "\n",
      "\n"
     ]
    }
   ],
   "source": [
    "from sklearn.tree import DecisionTreeClassifier\n",
    "\n",
    "decision_tree = DecisionTreeClassifier()\n",
    "decision_tree.fit(x,y)  \n",
    "Y_pred = decision_tree.predict(x_test) \n",
    "accuracy_dt=round(accuracy_score(y_test,Y_pred)* 100, 2)\n",
    "acc_decision_tree = round(decision_tree.score(x_train, y_train) * 100, 2)\n",
    "\n",
    "cm = confusion_matrix(y_test, Y_pred)\n",
    "accuracy = accuracy_score(y_test,Y_pred)\n",
    "precision = precision_score(y_test, Y_pred,average='micro')\n",
    "recall = recall_score(y_test, Y_pred,average='micro')\n",
    "f1 = f1_score(y_test,Y_pred,average='micro')\n",
    "print('Confusion matrix for DecisionTree\\n',cm)\n",
    "print('accuracy_DecisionTree: %.3f' %accuracy)\n",
    "print('precision_DecisionTree: %.3f' %precision)\n",
    "print('recall_DecisionTree: %.3f' %recall)\n",
    "print('f1-score_DecisionTree : %.3f' %f1)\n",
    "print(classification_report(y_test,Y_pred),\"\\n\\n\")"
   ]
  }
 ],
 "metadata": {
  "colab": {
   "collapsed_sections": [],
   "name": "TubesMalin2 Nich.ipynb",
   "provenance": []
  },
  "kernelspec": {
   "display_name": "Python 3 (ipykernel)",
   "language": "python",
   "name": "python3"
  },
  "language_info": {
   "codemirror_mode": {
    "name": "ipython",
    "version": 3
   },
   "file_extension": ".py",
   "mimetype": "text/x-python",
   "name": "python",
   "nbconvert_exporter": "python",
   "pygments_lexer": "ipython3",
   "version": "3.10.1"
  }
 },
 "nbformat": 4,
 "nbformat_minor": 1
}
